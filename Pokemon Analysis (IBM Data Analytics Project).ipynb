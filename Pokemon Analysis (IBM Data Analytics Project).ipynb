{
 "cells": [
  {
   "cell_type": "markdown",
   "metadata": {},
   "source": [
    "# Introductory program for Data Visualization in Python\n",
    "\n",
    "## The Pokemon Dataset"
   ]
  },
  {
   "cell_type": "markdown",
   "metadata": {},
   "source": [
    "### Description of the Data"
   ]
  },
  {
   "cell_type": "markdown",
   "metadata": {},
   "source": [
    "This data set includes 721 Pokemon, including their number, name, first and second type, and basic stats: HP, Attack, Defense, Special Attack, Special Defense, and Speed. It has been of great use when teaching statistics to kids. With certain types you can also give a geeky introduction to machine learning.\n",
    "\n",
    "This are the raw attributes that are used for calculating how much damage an attack will do in the games. This dataset is about the pokemon games (NOT pokemon cards or Pokemon Go).\n",
    "\n",
    "The data as described by Myles O'Neill is:\n",
    "\n",
    "    #: ID for each pokemon\n",
    "    Name: Name of each pokemon\n",
    "    Type 1: Each pokemon has a type, this determines weakness/resistance to attacks\n",
    "    Type 2: Some pokemon are dual type and have 2\n",
    "    Total: sum of all stats that come after this, a general guide to how strong a pokemon is\n",
    "    HP: hit points, or health, defines how much damage a pokemon can withstand before fainting\n",
    "    Attack: the base modifier for normal attacks (eg. Scratch, Punch)\n",
    "    Defense: the base damage resistance against normal attacks\n",
    "    SP Atk: special attack, the base modifier for special attacks (e.g. fire blast, bubble beam)\n",
    "    SP Def: the base damage resistance against special attacks\n",
    "    Speed: determines which pokemon attacks first each round\n",
    "\n",
    "The data for this table has been acquired from several different sites, including:\n",
    "\n",
    "    pokemon.com\n",
    "    pokemondb\n",
    "    bulbapeida\n",
    "\n",
    "One question has been answered with this database: The type of a pokemon cannot be inferred only by it's Attack and Deffence. It would be worthy to find which two variables can define the type of a pokemon, if any. Two variables can be plotted in a 2D space, and used as an example for machine learning. This could mean the creation of a visual example any geeky Machine Learning class would love.\n",
    "\n",
    "This dataset has been taken from [Kaggle - Pokemon with stats](https://www.kaggle.com/abcsds/pokemon)"
   ]
  },
  {
   "cell_type": "markdown",
   "metadata": {},
   "source": [
    "For any given dataset, we need to follow certain things:\n",
    "\n",
    "https://www.kaggle.com/ldfreeman3/a-data-science-framework-to-achieve-99-accuracy"
   ]
  },
  {
   "cell_type": "markdown",
   "metadata": {},
   "source": [
    "The first step in our analysis will be to import necessary packages."
   ]
  },
  {
   "cell_type": "code",
   "execution_count": 1,
   "metadata": {},
   "outputs": [],
   "source": [
    "import pandas as pd # package for a collection of functions for data processing and analysis.\n",
    "import numpy as np # foundational package for scientific computing\n",
    "import matplotlib.pyplot as plt # collection of functions for data visualization\n",
    "import seaborn as sns # for displaying better visualizations"
   ]
  },
  {
   "cell_type": "code",
   "execution_count": 4,
   "metadata": {},
   "outputs": [
    {
     "name": "stdout",
     "output_type": "stream",
     "text": [
      "     #                       Name Type 1  Type 2  Total  HP  Attack  Defense  \\\n",
      "0    1                  Bulbasaur  Grass  Poison    318  45      49       49   \n",
      "1    2                    Ivysaur  Grass  Poison    405  60      62       63   \n",
      "2    3                   Venusaur  Grass  Poison    525  80      82       83   \n",
      "3    3      VenusaurMega Venusaur  Grass  Poison    625  80     100      123   \n",
      "4    4                 Charmander   Fire     NaN    309  39      52       43   \n",
      "5    5                 Charmeleon   Fire     NaN    405  58      64       58   \n",
      "6    6                  Charizard   Fire  Flying    534  78      84       78   \n",
      "7    6  CharizardMega Charizard X   Fire  Dragon    634  78     130      111   \n",
      "8    6  CharizardMega Charizard Y   Fire  Flying    634  78     104       78   \n",
      "9    7                   Squirtle  Water     NaN    314  44      48       65   \n",
      "10   8                  Wartortle  Water     NaN    405  59      63       80   \n",
      "11   9                  Blastoise  Water     NaN    530  79      83      100   \n",
      "12   9    BlastoiseMega Blastoise  Water     NaN    630  79     103      120   \n",
      "13  10                   Caterpie    Bug     NaN    195  45      30       35   \n",
      "14  11                    Metapod    Bug     NaN    205  50      20       55   \n",
      "\n",
      "    Sp. Atk  Sp. Def  Speed  Generation  Legendary  \n",
      "0        65       65     45           1      False  \n",
      "1        80       80     60           1      False  \n",
      "2       100      100     80           1      False  \n",
      "3       122      120     80           1      False  \n",
      "4        60       50     65           1      False  \n",
      "5        80       65     80           1      False  \n",
      "6       109       85    100           1      False  \n",
      "7       130       85    100           1      False  \n",
      "8       159      115    100           1      False  \n",
      "9        50       64     43           1      False  \n",
      "10       65       80     58           1      False  \n",
      "11       85      105     78           1      False  \n",
      "12      135      115     78           1      False  \n",
      "13       20       20     45           1      False  \n",
      "14       25       25     30           1      False  \n"
     ]
    }
   ],
   "source": [
    "# Load the dataset\n",
    "df = pd.read_csv(r'C:\\Simulation Kernel\\The Tings\\Arcanefiles\\Datasets\\Pokemon.csv')\n",
    "print(df.head(15)) # load the first 15 records in the dataset"
   ]
  },
  {
   "cell_type": "markdown",
   "metadata": {},
   "source": [
    "We will first check if there are any null values present in the dataset. Null values pose a big threat to prediction or analysis part. Check this [link]()"
   ]
  },
  {
   "cell_type": "code",
   "execution_count": 7,
   "metadata": {},
   "outputs": [
    {
     "name": "stdout",
     "output_type": "stream",
     "text": [
      "#               0\n",
      "Name            0\n",
      "Type 1          0\n",
      "Type 2        386\n",
      "Total           0\n",
      "HP              0\n",
      "Attack          0\n",
      "Defense         0\n",
      "Sp. Atk         0\n",
      "Sp. Def         0\n",
      "Speed           0\n",
      "Generation      0\n",
      "Legendary       0\n",
      "dtype: int64\n"
     ]
    }
   ],
   "source": [
    "print(df.isnull().sum())"
   ]
  },
  {
   "cell_type": "markdown",
   "metadata": {},
   "source": [
    "We have 386 null values in the `Type 2` column. Since it's a categorical value, we need to handle it differently. For now let's keep this aside.\n",
    "\n",
    "If we look at the data, we can see that `#` is extra and it doesn't contribute to our analysis. so we remove it."
   ]
  },
  {
   "cell_type": "code",
   "execution_count": 8,
   "metadata": {},
   "outputs": [
    {
     "name": "stdout",
     "output_type": "stream",
     "text": [
      "                    Name Type 1  Type 2  Total  HP  Attack  Defense  Sp. Atk  \\\n",
      "0              Bulbasaur  Grass  Poison    318  45      49       49       65   \n",
      "1                Ivysaur  Grass  Poison    405  60      62       63       80   \n",
      "2               Venusaur  Grass  Poison    525  80      82       83      100   \n",
      "3  VenusaurMega Venusaur  Grass  Poison    625  80     100      123      122   \n",
      "4             Charmander   Fire     NaN    309  39      52       43       60   \n",
      "\n",
      "   Sp. Def  Speed  Generation  Legendary  \n",
      "0       65     45           1      False  \n",
      "1       80     60           1      False  \n",
      "2      100     80           1      False  \n",
      "3      120     80           1      False  \n",
      "4       50     65           1      False  \n"
     ]
    }
   ],
   "source": [
    "df.drop(['#'], axis=1, inplace= True)\n",
    "print(df.head())"
   ]
  },
  {
   "cell_type": "code",
   "execution_count": null,
   "metadata": {},
   "outputs": [],
   "source": [
    "data = data.set_index('Name')\n",
    "#print(data.head(10))"
   ]
  },
  {
   "cell_type": "code",
   "execution_count": null,
   "metadata": {},
   "outputs": [],
   "source": [
    "data.index = data.index.str.replace(\".*(?=Mega)\", \"\")\n",
    "#print(data.head(10))"
   ]
  },
  {
   "cell_type": "code",
   "execution_count": null,
   "metadata": {},
   "outputs": [],
   "source": [
    "#print(data.shape)\n",
    "#print(data.columns)"
   ]
  },
  {
   "cell_type": "code",
   "execution_count": null,
   "metadata": {},
   "outputs": [],
   "source": [
    "data['Type 2'].fillna(data['Type 1'], inplace=True)\n",
    "#print(data.head(10))"
   ]
  },
  {
   "cell_type": "code",
   "execution_count": null,
   "metadata": {},
   "outputs": [],
   "source": [
    "#print(data.isnull().sum())"
   ]
  },
  {
   "cell_type": "code",
   "execution_count": null,
   "metadata": {},
   "outputs": [],
   "source": [
    "#print('Pokemon with High HP: ', data['HP'].argmax())\n",
    "#print('Pokemon with Low HP: ', data['HP'].argmin())\n",
    "#print('Pokemon with High Attack: ', data['Attack'].argmax())\n",
    "#print('Pokemon with Low Attack: ', data['Attack'].argmin())\n",
    "#print('Pokemon with High Defense: ', data['Defense'].argmax())\n",
    "#print('Pokemon with Low Defense: ', data['Defense'].argmin())"
   ]
  },
  {
   "cell_type": "code",
   "execution_count": null,
   "metadata": {},
   "outputs": [],
   "source": [
    "#print(data.describe())"
   ]
  },
  {
   "cell_type": "code",
   "execution_count": null,
   "metadata": {},
   "outputs": [],
   "source": [
    "# Total Overview of The Pokemon Types\n",
    "#print(data['Type 1'].value_counts(), '\\n', data['Type 2'].value_counts())"
   ]
  },
  {
   "cell_type": "code",
   "execution_count": null,
   "metadata": {},
   "outputs": [],
   "source": [
    "# Barplot\n",
    "data.Type2.value_counts().plot(kind='bar')\n",
    "plt.title('Number of pokemon of each type')\n",
    "plt.ylabel('Frequency')\n",
    "fig=plt.gcf()\n",
    "fig.set_size_inches(10, 10)"
   ]
  },
  {
   "cell_type": "code",
   "execution_count": null,
   "metadata": {},
   "outputs": [],
   "source": [
    "#pieplot\n",
    "data.Type1.value_counts().plot(kind='pie')\n",
    "plt.title('Number of pokemon of each type')\n",
    "fig=plt.gcf()\n",
    "fig.set_size_inches(10, 10)"
   ]
  },
  {
   "cell_type": "code",
   "execution_count": null,
   "metadata": {},
   "outputs": [],
   "source": [
    "labels = 'Water', 'Normal', 'Grass', 'Bug', 'Psychic', 'Fire', 'Electric', 'Rock', 'Other'\n",
    "sizes= [112, 98, 70, 69, 57, 52, 44, 44, 175]\n",
    "colors= ['b', 'm', '#00FF00', '#808000', '#008080', 'r', 'y', '#641E16', '#00FFFF']\n",
    "explode= (0.1, 0.1, 0.1, 0.1, 0.1, 0.1, 0.1, 0.1, 0.1)\n",
    "plt.pie(sizes, explode=explode, labels=labels, colors=colors, shadow=True, \n",
    "    autopct='%1.1f%%')\n",
    "plt.title('Percentage of Different Types of Type 1 Pokemon')\n",
    "fig=plt.gcf()\n",
    "fig.set_size_inches(10, 10)\n",
    "plt.show()\n",
    "plt.close()"
   ]
  },
  {
   "cell_type": "code",
   "execution_count": null,
   "metadata": {},
   "outputs": [],
   "source": [
    "# Univariate Plots\n",
    "f, ax=plt.subplots(1, 3, figsize=(15, 5))\n",
    "sns.distplot(data['Attack'], color='c', bins=25, ax=ax[0])\n",
    "ax[0].set_title('Attack Univariate Plot')\n",
    "sns.distplot(data['Defense'], color='m', bins=25, ax=ax[1])\n",
    "ax[1].set_title('Defense Univariate Plot')\n",
    "sns.distplot(data['HP'], color='b', bins=25, ax=ax[2])\n",
    "ax[2].set_title('HP Univariate Plot')\n",
    "#plt.close()"
   ]
  },
  {
   "cell_type": "code",
   "execution_count": null,
   "metadata": {},
   "outputs": [],
   "source": [
    "f, ax = plt.subplots(figsize=(15, 13))\n",
    "sns.pointplot(x=data['Type1'],y=data['Attack'],data=data,color='r')\n",
    "plt.title('Type1 vs Attack Pointplot')\n",
    "plt.xlabel('Type1')\n",
    "plt.ylabel('Attack')"
   ]
  },
  {
   "cell_type": "code",
   "execution_count": null,
   "metadata": {},
   "outputs": [],
   "source": [
    "# Bivariate Comparision Plots\n",
    "\n",
    "f, ax=plt.subplots(1, 3, figsize=(15, 5))\n",
    "sns.boxplot(x=data['Type 1'], y=data['Attack'], data=data, ax=ax[0], linewidth=0.5)\n",
    "ax[0].set_title('Type 1 vs Attack Scatter Plot')\n",
    "ax[0].set_xticklabels(data['Type 1'],rotation=90)\n",
    "\n",
    "sns.boxplot(x=data['Type 1'], y=data['Defense'], data=data, ax=ax[1], linewidth=0.5)\n",
    "ax[1].set_title('Type 1 vs Defense Scatter Plot')\n",
    "ax[1].set_xticklabels(data['Type 1'],rotation=90)\n",
    "\n",
    "sns.boxplot(x=data['Type 1'], y=data['HP'], data=data, ax=ax[2], linewidth=0.5)\n",
    "ax[2].set_title('Type 1 vs HP Plot')\n",
    "ax[2].set_xticklabels(data['Type 1'],rotation=90)\n",
    "#plt.close()\n",
    "\n",
    "f, ax=plt.subplots(1, 3, figsize=(25, 5))\n",
    "sns.violinplot(x=data['Type 2'], y=data['Attack'], data=data, ax=ax[0], split=False)\n",
    "ax[0].set_title('Type 2 vs Attack Violin Plot')\n",
    "ax[0].set_xticklabels(data['Type 2'], rotation=90)\n",
    "\n",
    "sns.violinplot(x=data['Type 2'], y=data['Defense'], data=data, ax=ax[1], split=True)\n",
    "ax[1].set_title('Type 2 vs Defense Violin Plot')\n",
    "ax[1].set_xticklabels(data['Type 2'], rotation=90)\n",
    "\n",
    "sns.violinplot(x=data['Type 2'], y=data['HP'], data=data, ax=ax[2], split=True)\n",
    "ax[2].set_title('Type 2 vs HP Violin Plot')\n",
    "ax[2].set_xticklabels(data['Type 2'], rotation=90)\n",
    "#plt.close()\n",
    "\n",
    "plt.subplots(figsize=(15, 5))\n",
    "plt.title('Strongest Generation')\n",
    "sns.violinplot(x=data['Generation'], y=data['Total'], data=data)\n",
    "#plt.close()"
   ]
  },
  {
   "cell_type": "code",
   "execution_count": null,
   "metadata": {},
   "outputs": [],
   "source": [
    "# Correlation plot\n",
    "f, ax = plt.subplots(figsize=(10, 10))\n",
    "sns.heatmap(data.corr(), annot=True, fmt='.2f', linewidths=0.5, ax=ax)\n",
    "#plt.close()"
   ]
  },
  {
   "cell_type": "code",
   "execution_count": null,
   "metadata": {},
   "outputs": [],
   "source": [
    "# Regression Plots\n",
    "f, ax=plt.subplots(1, 2, figsize=(15, 5))\n",
    "sns.regplot(x=data['Attack'], y=data['HP'], ax=ax[0], data=data)\n",
    "ax[0].set_title('Attack vs HP Regression')\n",
    "\n",
    "sns.regplot(x=data['Defense'], y=data['HP'], ax=ax[1], data=data)\n",
    "ax[1].set_title('Defense vs HP Regression')\n",
    "plt.show()"
   ]
  },
  {
   "cell_type": "code",
   "execution_count": null,
   "metadata": {},
   "outputs": [],
   "source": [
    "sns.pairplot(data, hue=\"Generation\")"
   ]
  },
  {
   "cell_type": "code",
   "execution_count": null,
   "metadata": {},
   "outputs": [],
   "source": [
    "g=sns.FacetGrid(data, row=\"Type1\", col=\"Generation\", margin_titles=True)\n",
    "bins = np.linspace(0, 60, 13)\n",
    "g.map(plt.hist, \"Speed\", color=\"steelblue\", bins=bins, lw=0)"
   ]
  },
  {
   "cell_type": "code",
   "execution_count": null,
   "metadata": {},
   "outputs": [],
   "source": []
  }
 ],
 "metadata": {
  "kernelspec": {
   "display_name": "Python 3",
   "language": "python",
   "name": "python3"
  },
  "language_info": {
   "codemirror_mode": {
    "name": "ipython",
    "version": 3
   },
   "file_extension": ".py",
   "mimetype": "text/x-python",
   "name": "python",
   "nbconvert_exporter": "python",
   "pygments_lexer": "ipython3",
   "version": "3.6.7"
  }
 },
 "nbformat": 4,
 "nbformat_minor": 2
}
